{
 "cells": [
  {
   "cell_type": "markdown",
   "metadata": {},
   "source": [
    "\n",
    "<a href='https://www.darshan.ac.in/'> <img src='https://www.darshan.ac.in/Content/media/DU_Logo.svg' width=\"250\" height=\"300\"/></a>\n",
    "<pre>\n",
    "<center><b><h1>Python Programming - 2101CS405</b></center>\n",
    "<center><b><h1>Lab - 5</b></center>    \n",
    "<pre>"
   ]
  },
  {
   "cell_type": "markdown",
   "metadata": {},
   "source": [
    "# list"
   ]
  },
  {
   "cell_type": "markdown",
   "metadata": {},
   "source": [
    "### 01) WAP to find sum of all the elements in List."
   ]
  },
  {
   "cell_type": "code",
   "execution_count": 1,
   "metadata": {},
   "outputs": [
    {
     "name": "stdout",
     "output_type": "stream",
     "text": [
      "List of sum:  16\n"
     ]
    }
   ],
   "source": [
    "list1 = [1,4,2,6,3]\n",
    "add = sum(list1)\n",
    "print(\"List of sum: \",add)\n",
    "    "
   ]
  },
  {
   "cell_type": "markdown",
   "metadata": {},
   "source": [
    "### 02) WAP to find largest element in a List."
   ]
  },
  {
   "cell_type": "code",
   "execution_count": 2,
   "metadata": {},
   "outputs": [
    {
     "name": "stdout",
     "output_type": "stream",
     "text": [
      "Largest number: 52\n"
     ]
    }
   ],
   "source": [
    "list1=[12,43,52,21,12,23]\n",
    "\n",
    "largest=max(list1)\n",
    "print(\"Largest number:\", largest)"
   ]
  },
  {
   "cell_type": "markdown",
   "metadata": {},
   "source": [
    "### 03) WAP to split the List into two and append the first part to the end."
   ]
  },
  {
   "cell_type": "code",
   "execution_count": 2,
   "metadata": {},
   "outputs": [
    {
     "name": "stdout",
     "output_type": "stream",
     "text": [
      "[6, 7, 8, 9, 10, 1, 2, 3, 4, 5]\n"
     ]
    }
   ],
   "source": [
    "List=[1,2,3,4,5,6,7,8,9,10]\n",
    "list1=List[0:int(len(List)/2)]\n",
    "list2=List[int(len(List)/2):]\n",
    "list2.extend(list1)\n",
    "print(list2)"
   ]
  },
  {
   "cell_type": "markdown",
   "metadata": {},
   "source": [
    "### 04) WAP to interchange first and last elements in list entered by a user."
   ]
  },
  {
   "cell_type": "code",
   "execution_count": 6,
   "metadata": {},
   "outputs": [
    {
     "name": "stdout",
     "output_type": "stream",
     "text": [
      "Enter number of element : 5\n",
      "enter list element:1\n",
      "enter list element:2\n",
      "enter list element:3\n",
      "enter list element:4\n",
      "enter list element:5\n",
      "[5, 2, 3, 4, 1]\n"
     ]
    }
   ],
   "source": [
    "list1=[]\n",
    "n=int(input(\"Enter number of element : \"))\n",
    "for i in range(0,n):\n",
    "    X=int(input(\"enter list element:\"))\n",
    "    list1.append(X)\n",
    "    \n",
    "\n",
    "list1[0],list1[-1]=list1[-1],list1[0]\n",
    "print(list1)"
   ]
  },
  {
   "cell_type": "markdown",
   "metadata": {},
   "source": [
    "### 05) WAP to interchange the elements on two positions entered by a user."
   ]
  },
  {
   "cell_type": "code",
   "execution_count": 4,
   "metadata": {},
   "outputs": [
    {
     "name": "stdout",
     "output_type": "stream",
     "text": [
      "Enter number of element : 5\n",
      "enter list element:1\n",
      "enter list element:2\n",
      "enter list element:3\n",
      "enter list element:4\n",
      "enter list element:5\n",
      "Enter number of element : 2\n",
      "Enter number of element : 4\n",
      "[1, 4, 3, 2, 5]\n"
     ]
    }
   ],
   "source": [
    "list1=[]\n",
    "n=int(input(\"Enter number of element : \"))\n",
    "for i in range(0,n):\n",
    "    X=int(input(\"enter list element:\"))\n",
    "    list1.append(X)\n",
    "a=int(input(\"Enter number of element : \"))-1\n",
    "b=int(input(\"Enter number of element : \"))-1\n",
    "\n",
    "\n",
    "list1[a],list1[b]=list1[b],list1[a]\n",
    "\n",
    "print(list1)"
   ]
  },
  {
   "cell_type": "markdown",
   "metadata": {},
   "source": [
    "### 06) WAP to reverses the list entered by user."
   ]
  },
  {
   "cell_type": "code",
   "execution_count": 5,
   "metadata": {},
   "outputs": [
    {
     "name": "stdout",
     "output_type": "stream",
     "text": [
      "Enter number of element : 5\n",
      "enter list element:1\n",
      "enter list element:2\n",
      "enter list element:3\n",
      "enter list element:4\n",
      "enter list element:5\n",
      "[5, 4, 3, 2, 1]\n"
     ]
    }
   ],
   "source": [
    "list1=[]\n",
    "n=int(input(\"Enter number of element : \"))\n",
    "for i in range(0,n):\n",
    "    X=int(input(\"enter list element:\"))\n",
    "    list1.append(X)\n",
    "print(list1[::-1])"
   ]
  },
  {
   "cell_type": "markdown",
   "metadata": {},
   "source": [
    "### 07) Python program to remove multiple elements from a list using list comprehension"
   ]
  },
  {
   "cell_type": "code",
   "execution_count": 23,
   "metadata": {},
   "outputs": [
    {
     "name": "stdout",
     "output_type": "stream",
     "text": [
      "Enter number of element : 5\n",
      "enter list element:1\n",
      "enter list element:2\n",
      "enter list element:3\n",
      "enter list element:4\n",
      "enter list element:5\n",
      "[1, 3, 5]\n"
     ]
    }
   ],
   "source": [
    "list1=[]\n",
    "n=int(input(\"Enter number of element : \"))\n",
    "for i in range(0,n):\n",
    "    X=int(input(\"enter list element:\"))\n",
    "    list1.append(X)\n",
    "\n",
    "list1=[i for i in list1 if i%2!=0]\n",
    "print(list1)"
   ]
  },
  {
   "cell_type": "markdown",
   "metadata": {},
   "source": [
    "### 08) Create a list from the specified start to end index of another list."
   ]
  },
  {
   "cell_type": "code",
   "execution_count": 9,
   "metadata": {},
   "outputs": [
    {
     "name": "stdout",
     "output_type": "stream",
     "text": [
      "Enter number of element : 5\n",
      "enter list element:1\n",
      "enter list element:2\n",
      "enter list element:3\n",
      "enter list element:4\n",
      "enter list element:5\n",
      "Enter start of list: 2\n",
      "Enter end of list : 4\n",
      "[2, 3, 4]\n"
     ]
    }
   ],
   "source": [
    "list1=[]\n",
    "n=int(input(\"Enter number of element : \"))\n",
    "for i in range(0,n):\n",
    "    X=int(input(\"enter list element:\"))\n",
    "    list1.append(X)\n",
    "start=int(input(\"Enter start of list: \"))\n",
    "end=int(input(\"Enter end of list : \"))\n",
    "list2=list1[start-1:end]\n",
    "print(list2)\n"
   ]
  },
  {
   "cell_type": "markdown",
   "metadata": {},
   "source": [
    "### 09) Input comma separated elements, convert into list and print."
   ]
  },
  {
   "cell_type": "code",
   "execution_count": 11,
   "metadata": {},
   "outputs": [
    {
     "name": "stdout",
     "output_type": "stream",
     "text": [
      "enter comma separated elements:1,2,3,4,5\n",
      "['1', '2', '3', '4', '5']\n"
     ]
    }
   ],
   "source": [
    "Str=input(\"enter comma separated elements:\")\n",
    "list1=Str.split(\",\")\n",
    "print(list1)\n"
   ]
  },
  {
   "cell_type": "markdown",
   "metadata": {},
   "source": [
    "### 01) WAP to count Even and Odd numbers in a List."
   ]
  },
  {
   "cell_type": "code",
   "execution_count": 17,
   "metadata": {},
   "outputs": [
    {
     "name": "stdout",
     "output_type": "stream",
     "text": [
      "Enter number of element : 5\n",
      "enter list element:12\n",
      "enter list element:3\n",
      "enter list element:4\n",
      "enter list element:5\n",
      "enter list element:6\n",
      "Even: 3\n",
      "Odd: 2\n"
     ]
    }
   ],
   "source": [
    "list1=[]\n",
    "n=int(input(\"Enter number of element : \"))\n",
    "for i in range(0,n):\n",
    "    X=int(input(\"enter list element:\"))\n",
    "    list1.append(X)\n",
    "\n",
    "even=0\n",
    "odd=0\n",
    "for i in list1:\n",
    "    if(i%2==0):\n",
    "        even+=1\n",
    "    else:\n",
    "        odd+=1\n",
    "print(\"Even:\",even)\n",
    "print(\"Odd:\",odd)"
   ]
  },
  {
   "cell_type": "markdown",
   "metadata": {},
   "source": [
    "### 02) Python program to find N largest and smallest elements from the list"
   ]
  },
  {
   "cell_type": "code",
   "execution_count": 20,
   "metadata": {},
   "outputs": [
    {
     "name": "stdout",
     "output_type": "stream",
     "text": [
      "Enter number of element : 5\n",
      "enter list element:1\n",
      "enter list element:24\n",
      "enter list element:53\n",
      "enter list element:233\n",
      "enter list element:12\n",
      "max: 233\n",
      "max: 1\n"
     ]
    }
   ],
   "source": [
    "n=int(input(\"Enter number of element : \"))\n",
    "list1=[int(input(\"enter list element:\")) for i in range(n)]\n",
    "\n",
    "print(\"max:\",max(list1))\n",
    "print(\"max:\",min(list1))"
   ]
  },
  {
   "cell_type": "markdown",
   "metadata": {},
   "source": [
    "### 03) WAP to print duplicates from a list of integers"
   ]
  },
  {
   "cell_type": "code",
   "execution_count": 49,
   "metadata": {},
   "outputs": [
    {
     "name": "stdout",
     "output_type": "stream",
     "text": [
      "Enter number of element : 6\n",
      "enter list element:1\n",
      "enter list element:1\n",
      "enter list element:1\n",
      "enter list element:2\n",
      "enter list element:2\n",
      "enter list element:2\n",
      "0 1 1 1 2 2 2 2 2 2 2 2 2 2 2 2\n"
     ]
    }
   ],
   "source": [
    "n=int(input(\"Enter number of element : \"))\n",
    "list1=[int(input(\"enter list element:\")) for i in range(n)]\n",
    "list2=[0]\n",
    "for i in range(n):\n",
    "    for j in range(i+1,n):\n",
    "        if(list1[j]==list1[i]):\n",
    "            for k in list2:\n",
    "                if(list1[j]==k):\n",
    "                    continue\n",
    "                else:\n",
    "                    list2.append(list1[j])\n",
    "print(*list2)\n"
   ]
  },
  {
   "cell_type": "code",
   "execution_count": null,
   "metadata": {},
   "outputs": [],
   "source": []
  }
 ],
 "metadata": {
  "kernelspec": {
   "display_name": "Python 3 (ipykernel)",
   "language": "python",
   "name": "python3"
  },
  "language_info": {
   "codemirror_mode": {
    "name": "ipython",
    "version": 3
   },
   "file_extension": ".py",
   "mimetype": "text/x-python",
   "name": "python",
   "nbconvert_exporter": "python",
   "pygments_lexer": "ipython3",
   "version": "3.9.13"
  }
 },
 "nbformat": 4,
 "nbformat_minor": 4
}
