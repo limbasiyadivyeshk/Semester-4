{
 "cells": [
  {
   "cell_type": "markdown",
   "metadata": {},
   "source": [
    "\n",
    "<a href='https://www.darshan.ac.in/'> <img src='https://www.darshan.ac.in/Content/media/DU_Logo.svg' width=\"250\" height=\"300\"/></a>\n",
    "<pre>\n",
    "<center><b><h1>Python Programming - 2101CS405</b></center>\n",
    "<center><b><h1>Lab - 4</b></center>    \n",
    "<pre>"
   ]
  },
  {
   "cell_type": "markdown",
   "metadata": {},
   "source": [
    "# String"
   ]
  },
  {
   "cell_type": "markdown",
   "metadata": {},
   "source": [
    "### 01) WAP to check given string is palindrome or not."
   ]
  },
  {
   "cell_type": "code",
   "execution_count": 2,
   "metadata": {},
   "outputs": [
    {
     "name": "stdout",
     "output_type": "stream",
     "text": [
      "Enter string to check string is palindrome or not:abba\n",
      "String is Palindrome.\n"
     ]
    }
   ],
   "source": [
    "S=input(\"Enter string to check string is palindrome or not:\")\n",
    "\n",
    "temp=S[::-1]\n",
    "if(S==temp):\n",
    "    print(\"String is Palindrome.\")\n",
    "else:\n",
    "    print(\"String is not Palindrome.\")"
   ]
  },
  {
   "cell_type": "markdown",
   "metadata": {},
   "source": [
    "### 02) WAP to reverse the words in given string."
   ]
  },
  {
   "cell_type": "code",
   "execution_count": 4,
   "metadata": {},
   "outputs": [
    {
     "name": "stdout",
     "output_type": "stream",
     "text": [
      "Enter a string:reverse\n",
      "reverse: esrever\n"
     ]
    }
   ],
   "source": [
    "S=input(\"Enter a string:\")\n",
    "\n",
    "S=S[::-1]\n",
    "print(\"reverse:\",S)"
   ]
  },
  {
   "cell_type": "markdown",
   "metadata": {},
   "source": [
    "### 03) WAP to remove ith character from given string"
   ]
  },
  {
   "cell_type": "code",
   "execution_count": 16,
   "metadata": {},
   "outputs": [
    {
     "name": "stdout",
     "output_type": "stream",
     "text": [
      "Enter String:jeetu\n",
      "Enter index you remove the charecter:5\n",
      "jeet\n"
     ]
    }
   ],
   "source": [
    "S=input(\"Enter String:\")\n",
    "i=int(input(\"Enter index you remove the charecter:\"))\n",
    "\n",
    "temp1=S[:i-1:]+S[i::]\n",
    "\n",
    "print(temp1)"
   ]
  },
  {
   "cell_type": "markdown",
   "metadata": {},
   "source": [
    "### 04) WAP to find length of String without using len function."
   ]
  },
  {
   "cell_type": "code",
   "execution_count": 3,
   "metadata": {},
   "outputs": [
    {
     "name": "stdout",
     "output_type": "stream",
     "text": [
      "Enter String:Darshan\n",
      "7\n"
     ]
    }
   ],
   "source": [
    "S=input(\"Enter String:\")\n",
    "\n",
    "i=0\n",
    "\n",
    "for j in S:\n",
    "    i+=1\n",
    "print(i)"
   ]
  },
  {
   "cell_type": "markdown",
   "metadata": {},
   "source": [
    "### 05) WAP to print even length word in string."
   ]
  },
  {
   "cell_type": "code",
   "execution_count": 4,
   "metadata": {},
   "outputs": [
    {
     "name": "stdout",
     "output_type": "stream",
     "text": [
      "Enter Stringdarshan\n",
      "asa\n"
     ]
    }
   ],
   "source": [
    "S=input(\"Enter String\")\n",
    "\n",
    "print(S[1::2])"
   ]
  },
  {
   "cell_type": "markdown",
   "metadata": {},
   "source": [
    "### 06) WAP to count numbers of vowels in given string."
   ]
  },
  {
   "cell_type": "code",
   "execution_count": 10,
   "metadata": {},
   "outputs": [
    {
     "name": "stdout",
     "output_type": "stream",
     "text": [
      "Enter String:Darshan\n",
      "2\n"
     ]
    }
   ],
   "source": [
    "S=input(\"Enter String:\")\n",
    "\n",
    "i=0\n",
    "\n",
    "for j in S:\n",
    "    j=j.lower()\n",
    "    if(j==\"a\" or j==\"e\" or j==\"i\" or j==\"o\" or j==\"u\"):\n",
    "        i+=1\n",
    "print(i)"
   ]
  },
  {
   "cell_type": "markdown",
   "metadata": {},
   "source": [
    "### 07) WAP to convert given array to string."
   ]
  },
  {
   "cell_type": "code",
   "execution_count": 11,
   "metadata": {},
   "outputs": [
    {
     "name": "stdout",
     "output_type": "stream",
     "text": [
      "String: Darshan University Rajkot\n"
     ]
    }
   ],
   "source": [
    "arr=[\"Darshan\",\"University\",\"Rajkot\"]\n",
    "\n",
    "S=\",\".join(arr)\n",
    "print(\"String:\",S)"
   ]
  },
  {
   "cell_type": "markdown",
   "metadata": {},
   "source": [
    "### 01) WAP to find out duplicate characters in given string."
   ]
  },
  {
   "cell_type": "code",
   "execution_count": 15,
   "metadata": {},
   "outputs": [
    {
     "name": "stdout",
     "output_type": "stream",
     "text": [
      "Enter String:DarshanUniversity\n",
      " arrssssnnnnnnnniiiiiiiiiiiiiiii\n"
     ]
    }
   ],
   "source": [
    "S=input(\"Enter String:\")\n",
    "length=len(S)\n",
    "a=\" \"\n",
    "x=0\n",
    "y=0\n",
    "S=S.lower()\n",
    "for i in S:\n",
    "    x+=1\n",
    "    for j in S[x::]:\n",
    "        for k in range(0,(len(a))):\n",
    "            if(a[k]==i and a[k]==j or i==j):\n",
    "                a+=i\n",
    "print(a)"
   ]
  },
  {
   "cell_type": "markdown",
   "metadata": {},
   "source": [
    "### 02) WAP to capitalize the first and last character of each word in a string."
   ]
  },
  {
   "cell_type": "code",
   "execution_count": 10,
   "metadata": {},
   "outputs": [
    {
     "name": "stdout",
     "output_type": "stream",
     "text": [
      "Enter String:Darshan\n",
      "DarshaN\n"
     ]
    }
   ],
   "source": [
    "S=input(\"Enter String:\")\n",
    "temp=\"\"\n",
    "l=len(S)\n",
    "for i in S:\n",
    "    if(S[0]==i or S[l-1]==i):\n",
    "        i=i.upper()\n",
    "    temp+=i\n",
    "print(temp)"
   ]
  },
  {
   "cell_type": "markdown",
   "metadata": {},
   "source": [
    "### 03) WAP to find Maximum frequency character in String."
   ]
  },
  {
   "cell_type": "code",
   "execution_count": null,
   "metadata": {},
   "outputs": [],
   "source": []
  },
  {
   "cell_type": "markdown",
   "metadata": {},
   "source": [
    "### 04) WAP to find Minimum frequency character in String."
   ]
  },
  {
   "cell_type": "code",
   "execution_count": null,
   "metadata": {},
   "outputs": [],
   "source": []
  },
  {
   "cell_type": "markdown",
   "metadata": {},
   "source": [
    "### 05) WAP to check if a given string is binary string or not"
   ]
  },
  {
   "cell_type": "code",
   "execution_count": null,
   "metadata": {},
   "outputs": [],
   "source": []
  }
 ],
 "metadata": {
  "kernelspec": {
   "display_name": "Python 3 (ipykernel)",
   "language": "python",
   "name": "python3"
  },
  "language_info": {
   "codemirror_mode": {
    "name": "ipython",
    "version": 3
   },
   "file_extension": ".py",
   "mimetype": "text/x-python",
   "name": "python",
   "nbconvert_exporter": "python",
   "pygments_lexer": "ipython3",
   "version": "3.9.13"
  }
 },
 "nbformat": 4,
 "nbformat_minor": 4
}
