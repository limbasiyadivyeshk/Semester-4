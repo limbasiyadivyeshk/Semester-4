{
 "cells": [
  {
   "cell_type": "markdown",
   "metadata": {},
   "source": [
    "<a href='https://www.darshan.ac.in/'> <img src='https://www.darshan.ac.in/Content/media/DU_Logo.svg' width=\"250\" height=\"300\"/></a>\n",
    "<pre>\n",
    "<center><b><h1>Python Programming - 2101CS405</b></center>\n",
    "<center><b><h1>Lab - 6</b></center>    \n",
    "<pre>"
   ]
  },
  {
   "cell_type": "markdown",
   "metadata": {},
   "source": [
    "# Tuples, dictionary, set"
   ]
  },
  {
   "cell_type": "markdown",
   "metadata": {},
   "source": [
    "# A"
   ]
  },
  {
   "cell_type": "markdown",
   "metadata": {},
   "source": [
    "### 01) WAP to sort python dictionary by key or value."
   ]
  },
  {
   "cell_type": "code",
   "execution_count": 8,
   "metadata": {},
   "outputs": [
    {
     "name": "stdout",
     "output_type": "stream",
     "text": [
      "{4: 101, 5: 10, 6: 1, 13: 51}\n",
      "{6: 1, 5: 10, 13: 51, 4: 101}\n"
     ]
    }
   ],
   "source": [
    "###sort by key\n",
    "\n",
    "\n",
    "dic={5:10,13:51,4:101,6:1}\n",
    "dic1=dict(sorted(dic.items()))\n",
    "print(dic1)\n",
    "          \n",
    "###sort by values\n",
    "     \n",
    "dic2=dict(sorted(dic.items(),key=lambda x:x[1]))\n",
    "print(dic2)"
   ]
  },
  {
   "cell_type": "markdown",
   "metadata": {},
   "source": [
    "### 02) WAP to merge two dictionaries given by user."
   ]
  },
  {
   "cell_type": "code",
   "execution_count": 17,
   "metadata": {},
   "outputs": [
    {
     "name": "stdout",
     "output_type": "stream",
     "text": [
      "Enter Number:1\n",
      "Enter key:sdfbsk\n",
      "Enter Value:jsdfsedi\n",
      "Enter Number:2\n",
      "Enter key:jkjkdfo\n",
      "Enter Value:kkljgf\n",
      "Enter key:iojddfjig\n",
      "Enter Value:fgdi\n",
      "{'sdfbsk': 'jsdfsedi', 'jkjkdfo': 'kkljgf', 'iojddfjig': 'fgdi'}\n"
     ]
    }
   ],
   "source": [
    "dic1={}\n",
    "n1=int(input(\"Enter Number:\"))\n",
    "for i in range(n1):\n",
    "    k1=input(\"Enter key:\")\n",
    "    v1=input(\"Enter Value:\")\n",
    "    dic1[k1]=v1\n",
    "    \n",
    "dic2={}\n",
    "n2=int(input(\"Enter Number:\"))\n",
    "for j in range(n2):\n",
    "    k2=input(\"Enter key:\")\n",
    "    v2=input(\"Enter Value:\")\n",
    "    dic2[k2]=v2\n",
    "    \n",
    "print(dic1|dic2)"
   ]
  },
  {
   "cell_type": "markdown",
   "metadata": {},
   "source": [
    "### 03) WAP to find tuples that have all elements divisible by K from a list of tuples."
   ]
  },
  {
   "cell_type": "code",
   "execution_count": 20,
   "metadata": {},
   "outputs": [
    {
     "name": "stdout",
     "output_type": "stream",
     "text": [
      "Enter number:2\n",
      "[(6, 10)]\n"
     ]
    }
   ],
   "source": [
    "li=[(-1,-2),(3,5),(6,10)]\n",
    "k=int(input(\"Enter number:\"))\n",
    "x=list(i for i in li if all(j%k==0 for j in i))\n",
    "\n",
    "print(x)"
   ]
  },
  {
   "cell_type": "markdown",
   "metadata": {},
   "source": [
    "### 04) WAP to find Tuples with positive elements in List of tuples."
   ]
  },
  {
   "cell_type": "code",
   "execution_count": 18,
   "metadata": {},
   "outputs": [
    {
     "name": "stdout",
     "output_type": "stream",
     "text": [
      "[(3, 5)]\n"
     ]
    }
   ],
   "source": [
    "li=[(-1,-2),(3,5),(6,-10)]\n",
    "\n",
    "x=list(i for i in li if all(j>=0 for j in i))\n",
    "\n",
    "print(x)"
   ]
  },
  {
   "cell_type": "markdown",
   "metadata": {},
   "source": [
    "### 05) WAP which perform union of two sets."
   ]
  },
  {
   "cell_type": "code",
   "execution_count": 21,
   "metadata": {},
   "outputs": [
    {
     "name": "stdout",
     "output_type": "stream",
     "text": [
      "{1, 2, 3, 4, 5, 6, 7, 8}\n"
     ]
    }
   ],
   "source": [
    "a={1,2,6,8,7}\n",
    "b={2,3,6,4,5}\n",
    "\n",
    "print(a.union(b))"
   ]
  },
  {
   "cell_type": "markdown",
   "metadata": {},
   "source": [
    "# B"
   ]
  },
  {
   "cell_type": "markdown",
   "metadata": {},
   "source": [
    "### 01) WAP to convert binary tuple into integer."
   ]
  },
  {
   "cell_type": "code",
   "execution_count": null,
   "metadata": {},
   "outputs": [],
   "source": []
  },
  {
   "cell_type": "markdown",
   "metadata": {},
   "source": [
    "### 02) WAP to count frequency in list by dictionary."
   ]
  },
  {
   "cell_type": "code",
   "execution_count": null,
   "metadata": {},
   "outputs": [],
   "source": []
  },
  {
   "cell_type": "markdown",
   "metadata": {},
   "source": [
    "### 03) WAP to remove all the duplicate words from the list using dictionary."
   ]
  },
  {
   "cell_type": "code",
   "execution_count": null,
   "metadata": {},
   "outputs": [],
   "source": []
  }
 ],
 "metadata": {
  "kernelspec": {
   "display_name": "Python 3 (ipykernel)",
   "language": "python",
   "name": "python3"
  },
  "language_info": {
   "codemirror_mode": {
    "name": "ipython",
    "version": 3
   },
   "file_extension": ".py",
   "mimetype": "text/x-python",
   "name": "python",
   "nbconvert_exporter": "python",
   "pygments_lexer": "ipython3",
   "version": "3.9.13"
  }
 },
 "nbformat": 4,
 "nbformat_minor": 4
}
