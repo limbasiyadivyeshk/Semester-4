{
 "cells": [
  {
   "cell_type": "markdown",
   "metadata": {},
   "source": [
    "\n",
    "<a href='https://www.darshan.ac.in/'> <img src='https://www.darshan.ac.in/Content/media/DU_Logo.svg' width=\"250\" height=\"300\"/></a>\n",
    "<pre>\n",
    "<center><b><h1>Python Programming - 2101CS405</b></center>\n",
    "<center><b><h1>Lab - 3</b></center>    \n",
    "<pre>"
   ]
  },
  {
   "cell_type": "markdown",
   "metadata": {},
   "source": [
    "# for and while loop"
   ]
  },
  {
   "cell_type": "markdown",
   "metadata": {},
   "source": [
    "### 01) WAP to print 1 to 10"
   ]
  },
  {
   "cell_type": "code",
   "execution_count": 2,
   "metadata": {},
   "outputs": [
    {
     "name": "stdout",
     "output_type": "stream",
     "text": [
      "1\n",
      "2\n",
      "3\n",
      "4\n",
      "5\n",
      "6\n",
      "7\n",
      "8\n",
      "9\n",
      "10\n"
     ]
    }
   ],
   "source": [
    "for i in range(1, 11):\n",
    "    print(i)"
   ]
  },
  {
   "cell_type": "markdown",
   "metadata": {},
   "source": [
    "### 02) WAP to print 1 to n"
   ]
  },
  {
   "cell_type": "code",
   "execution_count": 3,
   "metadata": {},
   "outputs": [
    {
     "name": "stdout",
     "output_type": "stream",
     "text": [
      "Enter No.:10\n",
      "1\n",
      "2\n",
      "3\n",
      "4\n",
      "5\n",
      "6\n",
      "7\n",
      "8\n",
      "9\n",
      "10\n"
     ]
    }
   ],
   "source": [
    "n=int(input(\"Enter No.:\"))\n",
    "\n",
    "for i in range(1,n+1):\n",
    "    print(i)"
   ]
  },
  {
   "cell_type": "markdown",
   "metadata": {},
   "source": [
    "### 03) WAP to print odd numbers between 1 to n"
   ]
  },
  {
   "cell_type": "code",
   "execution_count": 5,
   "metadata": {},
   "outputs": [
    {
     "name": "stdout",
     "output_type": "stream",
     "text": [
      "Enter No.:10\n",
      "Odd numbers:\n",
      "1\n",
      "3\n",
      "5\n",
      "7\n",
      "9\n"
     ]
    }
   ],
   "source": [
    "n=int(input(\"Enter No.:\"))\n",
    "\n",
    "print(\"Odd numbers:\")\n",
    "for i in range(1,n+1):\n",
    "    if(i%2 !=0):\n",
    "        print(i)"
   ]
  },
  {
   "cell_type": "markdown",
   "metadata": {},
   "source": [
    "### 04) WAP to print numbers between two given numbers which is divisible by 2 but not divisible by 3"
   ]
  },
  {
   "cell_type": "code",
   "execution_count": 7,
   "metadata": {},
   "outputs": [
    {
     "name": "stdout",
     "output_type": "stream",
     "text": [
      "Enter no.-1:10\n",
      "Enter no.-2:20\n",
      "10\n",
      "14\n",
      "16\n",
      "20\n"
     ]
    }
   ],
   "source": [
    "n1=int(input(\"Enter no.-1:\"))\n",
    "n2=int(input(\"Enter no.-2:\"))\n",
    "\n",
    "for i in range(n1,n2+1):\n",
    "    if(i%2==0 and i%3!=0):\n",
    "        print(i)"
   ]
  },
  {
   "cell_type": "markdown",
   "metadata": {},
   "source": [
    "### 05) WAP to print sum of 1 to n numbers"
   ]
  },
  {
   "cell_type": "code",
   "execution_count": 9,
   "metadata": {},
   "outputs": [
    {
     "name": "stdout",
     "output_type": "stream",
     "text": [
      "Enter No.:10\n",
      "Sum= 55\n"
     ]
    }
   ],
   "source": [
    "n=int(input(\"Enter No.:\"))\n",
    "sum=0\n",
    "\n",
    "for i in range(1,n+1):\n",
    "    sum=sum+i\n",
    "    \n",
    "print(\"Sum=\",sum)"
   ]
  },
  {
   "cell_type": "markdown",
   "metadata": {},
   "source": [
    "### 06) WAP to print sum of series 1 + 4 + 9 + 16 + 25 + 36 + ...n"
   ]
  },
  {
   "cell_type": "code",
   "execution_count": 11,
   "metadata": {},
   "outputs": [
    {
     "name": "stdout",
     "output_type": "stream",
     "text": [
      "Enter No.:4\n",
      "Sum= 30\n"
     ]
    }
   ],
   "source": [
    "n=int(input(\"Enter No.:\"))\n",
    "sum=0\n",
    "\n",
    "for i in range(1,n+1):\n",
    "    sum=sum+i*i\n",
    "    \n",
    "print(\"Sum=\",sum)"
   ]
  },
  {
   "cell_type": "markdown",
   "metadata": {},
   "source": [
    "### 07) WAP to print sum of series 1 – 2 + 3 – 4 + 5 – 6 + 7 ... n"
   ]
  },
  {
   "cell_type": "code",
   "execution_count": 14,
   "metadata": {},
   "outputs": [
    {
     "name": "stdout",
     "output_type": "stream",
     "text": [
      "Enter No.:7\n",
      "Sum= 4\n"
     ]
    }
   ],
   "source": [
    "n=int(input(\"Enter No.:\"))\n",
    "sum=0\n",
    "\n",
    "for i in range(1,n+1):\n",
    "    if(i%2==0):\n",
    "        sum=sum-i\n",
    "    else:\n",
    "        sum=sum+i\n",
    "print(\"Sum=\",sum)\n"
   ]
  },
  {
   "cell_type": "markdown",
   "metadata": {},
   "source": [
    "### 08) WAP to print multiplication table of given number."
   ]
  },
  {
   "cell_type": "code",
   "execution_count": 24,
   "metadata": {},
   "outputs": [
    {
     "name": "stdout",
     "output_type": "stream",
     "text": [
      "Enter No.:2\n",
      "2 \tX\t 1 \t=\t 2\n",
      "2 \tX\t 2 \t=\t 4\n",
      "2 \tX\t 3 \t=\t 6\n",
      "2 \tX\t 4 \t=\t 8\n",
      "2 \tX\t 5 \t=\t 10\n",
      "2 \tX\t 6 \t=\t 12\n",
      "2 \tX\t 7 \t=\t 14\n",
      "2 \tX\t 8 \t=\t 16\n",
      "2 \tX\t 9 \t=\t 18\n",
      "2 \tX\t 10 \t=\t 20\n"
     ]
    }
   ],
   "source": [
    "n=int(input(\"Enter No.:\"))\n",
    "\n",
    "for i in range(1,11):\n",
    "    print(n ,\"\\tX\\t\",i , \"\\t=\\t\",n*i)"
   ]
  },
  {
   "cell_type": "markdown",
   "metadata": {},
   "source": [
    "### 09) WAP to find factorial of the given number"
   ]
  },
  {
   "cell_type": "code",
   "execution_count": 3,
   "metadata": {},
   "outputs": [
    {
     "name": "stdout",
     "output_type": "stream",
     "text": [
      "Enter no.:5\n",
      "Factorial of 5 : 120\n"
     ]
    }
   ],
   "source": [
    "n=int(input(\"Enter no.:\"))\n",
    "fact=1    \n",
    "for i in range(1,n+1):\n",
    "    fact=fact*i\n",
    "print(\"Factorial of\",n,\":\",fact)"
   ]
  },
  {
   "cell_type": "markdown",
   "metadata": {},
   "source": [
    "### 10) WAP to find factors of the given number"
   ]
  },
  {
   "cell_type": "code",
   "execution_count": 5,
   "metadata": {},
   "outputs": [
    {
     "name": "stdout",
     "output_type": "stream",
     "text": [
      "Enter No.:15\n",
      "Factors:\n",
      "1\n",
      "3\n",
      "5\n",
      "15\n"
     ]
    }
   ],
   "source": [
    "n=int(input(\"Enter No.:\"))\n",
    "\n",
    "print(\"Factors:\")\n",
    "for i in range(1,n+1):\n",
    "    if(n%i==0):\n",
    "        print(i)"
   ]
  },
  {
   "cell_type": "markdown",
   "metadata": {},
   "source": [
    "### 11) WAP to find whether the given number is prime or not."
   ]
  },
  {
   "cell_type": "code",
   "execution_count": 15,
   "metadata": {},
   "outputs": [
    {
     "name": "stdout",
     "output_type": "stream",
     "text": [
      "Enter No.:13\n",
      "13 is prime\n"
     ]
    }
   ],
   "source": [
    "n=int(input(\"Enter No.:\"))\n",
    "flag=0\n",
    "for i in range(2,(int)(n/2)):\n",
    "    if(n%i==0):\n",
    "        flag=1\n",
    "        break\n",
    "if(flag==1):\n",
    "    print(n,\"is Not Prime\")\n",
    "else:\n",
    "    print(n,\"is prime\")\n",
    "        "
   ]
  },
  {
   "cell_type": "markdown",
   "metadata": {},
   "source": [
    "### 12) WAP to print sum of digits of given number"
   ]
  },
  {
   "cell_type": "code",
   "execution_count": 26,
   "metadata": {},
   "outputs": [
    {
     "name": "stdout",
     "output_type": "stream",
     "text": [
      "Enter No.:148\n",
      "sum= 13\n"
     ]
    }
   ],
   "source": [
    "n=int(input(\"Enter No.:\"))\n",
    "sum=0\n",
    "i=0\n",
    "\n",
    "while (n>0):\n",
    "    i=n%10\n",
    "    sum=sum+i\n",
    "    n=int(n/10)\n",
    "\n",
    "print(\"sum=\",sum)"
   ]
  },
  {
   "cell_type": "markdown",
   "metadata": {},
   "source": [
    "\n",
    "### 13) WAP to check whether the given number is palindrome or not"
   ]
  },
  {
   "cell_type": "code",
   "execution_count": 31,
   "metadata": {},
   "outputs": [
    {
     "name": "stdout",
     "output_type": "stream",
     "text": [
      "Enter no.:123\n",
      "0\n",
      "321\n",
      "Number is not Palindrome\n"
     ]
    }
   ],
   "source": [
    "n=int(input(\"Enter no.:\"))\n",
    "a=0\n",
    "temp=n\n",
    "while(n>0):\n",
    "    a=a*10+n%10\n",
    "    n=int(n/10)\n",
    "\n",
    "if(a==temp):\n",
    "    print(\"Number is Palindrome\")\n",
    "else:\n",
    "    print(\"Number is not Palindrome\")"
   ]
  },
  {
   "cell_type": "markdown",
   "metadata": {},
   "source": [
    "### 01) WAP to check whether the given number is Armstrong or not."
   ]
  },
  {
   "cell_type": "code",
   "execution_count": 39,
   "metadata": {},
   "outputs": [
    {
     "name": "stdout",
     "output_type": "stream",
     "text": [
      "Enter no.:153\n",
      "Number is Armstrong\n"
     ]
    }
   ],
   "source": [
    "n=int(input(\"Enter no.:\"))\n",
    "sum=0\n",
    "temp=n\n",
    "while(n>0):\n",
    "    m=n%10\n",
    "    sum=sum+m**3\n",
    "    n=int(n/10)\n",
    "\n",
    "if(sum==temp):\n",
    "    print(\"Number is Armstrong\")\n",
    "else:\n",
    "    print(temp,\" \",sum)\n",
    "    print(\"Number is not Armstrong\")"
   ]
  },
  {
   "cell_type": "markdown",
   "metadata": {},
   "source": [
    "### 02) WAP to find out prime numbers between given two numbers."
   ]
  },
  {
   "cell_type": "code",
   "execution_count": 5,
   "metadata": {},
   "outputs": [
    {
     "name": "stdout",
     "output_type": "stream",
     "text": [
      "Enter No.-1:1\n",
      "Enter No.-2:10\n",
      "1 is Prime\n",
      "2 is Prime\n",
      "3 is Prime\n",
      "4 is Not Prime\n",
      "5 is Prime\n",
      "6 is Not Prime\n",
      "7 is Prime\n",
      "8 is Not Prime\n",
      "9 is Not Prime\n",
      "10 is Not Prime\n"
     ]
    }
   ],
   "source": [
    "n1=int(input(\"Enter No.-1:\"))\n",
    "n2=int(input(\"Enter No.-2:\"))\n",
    "flag=0\n",
    "for i in range(n1,n2+1):\n",
    "    for j in range(2,i):\n",
    "        if(i%j==0):\n",
    "            flag+=1\n",
    "            break\n",
    "    if(flag==1):\n",
    "        print(i,\"is Not Prime\")\n",
    "        flag=0\n",
    "    else:\n",
    "        print(i,\"is Prime\")\n",
    "    "
   ]
  },
  {
   "cell_type": "markdown",
   "metadata": {},
   "source": [
    "### 03) WAP to calculate x^y without using any function."
   ]
  },
  {
   "cell_type": "code",
   "execution_count": 9,
   "metadata": {},
   "outputs": [
    {
     "name": "stdout",
     "output_type": "stream",
     "text": [
      "Enter No.:2\n",
      "Enter Power:5\n",
      "X^Y: 32\n"
     ]
    }
   ],
   "source": [
    "x=int(input(\"Enter No.:\"))\n",
    "y=int(input(\"Enter Power:\"))\n",
    "\n",
    "pOfN=1\n",
    "\n",
    "for i in range(1,y+1):\n",
    "    pOfN=pOfN*x\n",
    "\n",
    "print(\"X^Y:\",pOfN)"
   ]
  },
  {
   "cell_type": "markdown",
   "metadata": {},
   "source": [
    "### 04) WAP to check whether the given number is perfect or not.\n",
    "[Sum of factors including 1 excluding number itself]"
   ]
  },
  {
   "cell_type": "code",
   "execution_count": null,
   "metadata": {},
   "outputs": [],
   "source": []
  },
  {
   "cell_type": "markdown",
   "metadata": {},
   "source": [
    "### 05) WAP to find the sum of 1 + (1+2) + (1+2+3) + (1+2+3+4)+...+(1+2+3+4+....+n)"
   ]
  },
  {
   "cell_type": "code",
   "execution_count": null,
   "metadata": {},
   "outputs": [],
   "source": []
  },
  {
   "cell_type": "markdown",
   "metadata": {},
   "source": [
    "### 06) WAP to print Multiplication Table up to n"
   ]
  },
  {
   "cell_type": "code",
   "execution_count": null,
   "metadata": {},
   "outputs": [],
   "source": []
  }
 ],
 "metadata": {
  "kernelspec": {
   "display_name": "Python 3 (ipykernel)",
   "language": "python",
   "name": "python3"
  },
  "language_info": {
   "codemirror_mode": {
    "name": "ipython",
    "version": 3
   },
   "file_extension": ".py",
   "mimetype": "text/x-python",
   "name": "python",
   "nbconvert_exporter": "python",
   "pygments_lexer": "ipython3",
   "version": "3.9.13"
  }
 },
 "nbformat": 4,
 "nbformat_minor": 4
}
